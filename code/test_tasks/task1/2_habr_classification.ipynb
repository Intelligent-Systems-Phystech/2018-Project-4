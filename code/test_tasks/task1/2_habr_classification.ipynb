{
 "cells": [
  {
   "cell_type": "markdown",
   "metadata": {
    "toc": true
   },
   "source": [
    "<h1>Table of Contents<span class=\"tocSkip\"></span></h1>\n",
    "<div class=\"toc\"><ul class=\"toc-item\"><li><span><a href=\"#Задание\" data-toc-modified-id=\"Задание-1\"><span class=\"toc-item-num\">1&nbsp;&nbsp;</span>Задание</a></span></li><li><span><a href=\"#Load-data\" data-toc-modified-id=\"Load-data-2\"><span class=\"toc-item-num\">2&nbsp;&nbsp;</span>Load data</a></span></li><li><span><a href=\"#Define-vectorizer-and-model\" data-toc-modified-id=\"Define-vectorizer-and-model-3\"><span class=\"toc-item-num\">3&nbsp;&nbsp;</span>Define vectorizer and model</a></span></li><li><span><a href=\"#Get-prediction-for-new-text\" data-toc-modified-id=\"Get-prediction-for-new-text-4\"><span class=\"toc-item-num\">4&nbsp;&nbsp;</span>Get prediction for new text</a></span></li><li><span><a href=\"#Попробуем-vowpal-wabbit\" data-toc-modified-id=\"Попробуем-vowpal-wabbit-5\"><span class=\"toc-item-num\">5&nbsp;&nbsp;</span>Попробуем vowpal wabbit</a></span></li><li><span><a href=\"#Learn-with-vowpal-wabbit\" data-toc-modified-id=\"Learn-with-vowpal-wabbit-6\"><span class=\"toc-item-num\">6&nbsp;&nbsp;</span>Learn with vowpal wabbit</a></span></li></ul></div>"
   ]
  },
  {
   "cell_type": "markdown",
   "metadata": {},
   "source": [
    "## Задание\n",
    "Необходимо по тексту определить: лучше публиковать его в блоге на Хабрахабр или на Geektimes, другими словами нужно научить алгоритм отличать статьи одного блога от другого. Подразумевается, что текст технический и релевантен тематике данных блогов.\n",
    "\n",
    "В качестве исходных данных используются два json файла с 1000 текстами с каждого из этих двух сайтов."
   ]
  },
  {
   "cell_type": "code",
   "execution_count": 1,
   "metadata": {
    "ExecuteTime": {
     "end_time": "2018-10-28T11:20:52.399210Z",
     "start_time": "2018-10-28T11:20:47.304041Z"
    }
   },
   "outputs": [
    {
     "name": "stdout",
     "output_type": "stream",
     "text": [
      "[nltk_data] Downloading package stopwords to /home/anton/nltk_data...\n",
      "[nltk_data]   Package stopwords is already up-to-date!\n",
      "[nltk_data] Downloading package punkt to /home/anton/nltk_data...\n",
      "[nltk_data]   Unzipping tokenizers/punkt.zip.\n"
     ]
    },
    {
     "data": {
      "text/plain": [
       "True"
      ]
     },
     "execution_count": 1,
     "metadata": {},
     "output_type": "execute_result"
    }
   ],
   "source": [
    "import os\n",
    "import json\n",
    "import re\n",
    "from os.path import join\n",
    "import pandas as pd\n",
    "import numpy as np\n",
    "\n",
    "from string import punctuation\n",
    "from nltk.stem.snowball import RussianStemmer, SnowballStemmer\n",
    "from nltk.tokenize import word_tokenize\n",
    "from nltk.corpus import stopwords\n",
    "\n",
    "from sklearn.feature_extraction.text import TfidfVectorizer, CountVectorizer, HashingVectorizer\n",
    "from sklearn.model_selection import train_test_split, cross_val_score\n",
    "from sklearn.linear_model import LogisticRegression\n",
    "from sklearn import metrics\n",
    "import matplotlib.pyplot as plt\n",
    "%matplotlib inline\n",
    "\n",
    "import nltk\n",
    "nltk.download('stopwords')\n",
    "nltk.download('punkt')"
   ]
  },
  {
   "cell_type": "code",
   "execution_count": 2,
   "metadata": {
    "ExecuteTime": {
     "end_time": "2018-10-28T11:20:52.407018Z",
     "start_time": "2018-10-28T11:20:52.401447Z"
    }
   },
   "outputs": [],
   "source": [
    "\n",
    "RND_SEED = 0\n",
    "PATH_TO_DATA = \"data/habr/\"\n",
    "\n",
    "specSymb = {\"«\", \"»\", \"—\", \"“\", \"-\", \"№\"}\n",
    "specSymb = punctuation + \"«»—“-№\"\n",
    "pattern = re.compile(\"[\" + re.escape(specSymb) + \"]\")\n",
    "\n",
    "stopRus = stopwords.words('russian')\n",
    "stemmer_rus = SnowballStemmer(\"russian\")\n",
    "stemmer_eng = SnowballStemmer(\"english\")"
   ]
  },
  {
   "cell_type": "markdown",
   "metadata": {},
   "source": [
    "## Load data"
   ]
  },
  {
   "cell_type": "code",
   "execution_count": 3,
   "metadata": {
    "ExecuteTime": {
     "end_time": "2018-10-28T11:20:52.911646Z",
     "start_time": "2018-10-28T11:20:52.409562Z"
    }
   },
   "outputs": [
    {
     "name": "stdout",
     "output_type": "stream",
     "text": [
      "Size of geektimes sample:  997\n",
      "Size of habrahabr sample:  997\n"
     ]
    }
   ],
   "source": [
    "with open(join(PATH_TO_DATA, \"geektimes.json\")) as f_in:\n",
    "    jsonka_geek = json.loads(f_in.read())\n",
    "\n",
    "df_geek = pd.DataFrame.from_dict(jsonka_geek)\n",
    "df_geek[\"label\"] = pd.Series([0]*len(df_geek))\n",
    "print(\"Size of geektimes sample: \", df_geek.shape[0])\n",
    "\n",
    "\n",
    "with open(join(PATH_TO_DATA, \"habrahabr.json\")) as f_in:\n",
    "    jsonka_habr = json.loads(f_in.read())\n",
    "\n",
    "df_habr = pd.DataFrame.from_dict(jsonka_habr)\n",
    "df_habr[\"label\"] = pd.Series([1]*len(df_habr))\n",
    "print(\"Size of habrahabr sample: \", df_habr.shape[0])\n"
   ]
  },
  {
   "cell_type": "code",
   "execution_count": 4,
   "metadata": {
    "ExecuteTime": {
     "end_time": "2018-10-28T11:20:52.922891Z",
     "start_time": "2018-10-28T11:20:52.913993Z"
    }
   },
   "outputs": [],
   "source": [
    "df_all = pd.concat([df_habr, df_geek])\n",
    "df_all = df_all.reset_index()[[\"title\", \"text\", \"label\"]]"
   ]
  },
  {
   "cell_type": "code",
   "execution_count": 5,
   "metadata": {
    "ExecuteTime": {
     "end_time": "2018-10-28T11:20:53.006822Z",
     "start_time": "2018-10-28T11:20:52.925189Z"
    }
   },
   "outputs": [],
   "source": [
    "def preprocess(text):\n",
    "    text = text.lower()\n",
    "    text = re.sub(pattern, '', text)\n",
    "    text = text.replace('ё', 'е')\n",
    "\n",
    "    tokens = word_tokenize(text)\n",
    "    tokens_without_nums = filter(lambda x: not x.isdigit(), tokens)  # skip all numbers\n",
    "    tokens_without_stop = filter(lambda x: x not in stopRus, tokens_without_nums)\n",
    "    tokens_stem_rus = map(lambda x: stemmer_rus.stem(x), tokens_without_stop)\n",
    "    tokens_stem_eng = map(lambda x: stemmer_eng.stem(x), tokens_stem_rus)\n",
    "    \n",
    "    return \" \".join(tokens_stem_eng)"
   ]
  },
  {
   "cell_type": "code",
   "execution_count": null,
   "metadata": {},
   "outputs": [],
   "source": []
  },
  {
   "cell_type": "code",
   "execution_count": 6,
   "metadata": {
    "ExecuteTime": {
     "end_time": "2018-10-28T11:22:27.740340Z",
     "start_time": "2018-10-28T11:20:53.009495Z"
    }
   },
   "outputs": [
    {
     "name": "stdout",
     "output_type": "stream",
     "text": [
      "CPU times: user 1min 34s, sys: 64 ms, total: 1min 34s\n",
      "Wall time: 1min 34s\n"
     ]
    }
   ],
   "source": [
    "%%time\n",
    "df_all[\"title\"] = df_all[\"title\"].apply(preprocess)\n",
    "df_all[\"text\"] = df_all[\"text\"].apply(preprocess)"
   ]
  },
  {
   "cell_type": "code",
   "execution_count": 7,
   "metadata": {
    "ExecuteTime": {
     "end_time": "2018-10-28T11:22:27.753582Z",
     "start_time": "2018-10-28T11:22:27.741833Z"
    }
   },
   "outputs": [],
   "source": [
    "X = df_all[\"title\"].str.cat(pd.Series([' ']*len(df_all))).str.cat(df_all[\"text\"])\n",
    "y = df_all[\"label\"]"
   ]
  },
  {
   "cell_type": "code",
   "execution_count": 8,
   "metadata": {
    "ExecuteTime": {
     "end_time": "2018-10-28T11:22:27.832840Z",
     "start_time": "2018-10-28T11:22:27.754973Z"
    }
   },
   "outputs": [],
   "source": [
    "X_train, X_test, y_train, y_test = train_test_split(X, y, test_size=0.2, random_state = RND_SEED)"
   ]
  },
  {
   "cell_type": "code",
   "execution_count": 9,
   "metadata": {
    "ExecuteTime": {
     "end_time": "2018-10-28T11:22:27.901218Z",
     "start_time": "2018-10-28T11:22:27.834397Z"
    }
   },
   "outputs": [
    {
     "data": {
      "text/plain": [
       "(1595, 399)"
      ]
     },
     "execution_count": 9,
     "metadata": {},
     "output_type": "execute_result"
    }
   ],
   "source": [
    "X_train.shape[0], X_test.shape[0]"
   ]
  },
  {
   "cell_type": "markdown",
   "metadata": {},
   "source": [
    "## Define vectorizer and model"
   ]
  },
  {
   "cell_type": "code",
   "execution_count": 10,
   "metadata": {
    "ExecuteTime": {
     "end_time": "2018-10-28T11:22:28.002446Z",
     "start_time": "2018-10-28T11:22:27.902924Z"
    }
   },
   "outputs": [],
   "source": [
    "vect = CountVectorizer(binary=True)\n",
    "# попробуйте разные типы векторизаторов бинарный, CountVectorizer, TfIdfVectorizer, HashingVectorizer"
   ]
  },
  {
   "cell_type": "code",
   "execution_count": 11,
   "metadata": {
    "ExecuteTime": {
     "end_time": "2018-10-28T11:22:28.071580Z",
     "start_time": "2018-10-28T11:22:28.003983Z"
    }
   },
   "outputs": [],
   "source": [
    "logreg = LogisticRegression(C=1, solver=\"liblinear\")  # посмотрите, как влияет коэффициент и тип регуляризации"
   ]
  },
  {
   "cell_type": "code",
   "execution_count": 12,
   "metadata": {
    "ExecuteTime": {
     "end_time": "2018-10-28T11:22:28.140187Z",
     "start_time": "2018-10-28T11:22:28.073272Z"
    }
   },
   "outputs": [],
   "source": [
    "def plot_roc_auc(y_score, y_test):\n",
    "    fpr, tpr, _ = metrics.roc_curve(y_test, y_score)\n",
    "    roc_auc = metrics.auc(fpr, tpr)\n",
    "    f1 = plt.figure(figsize=(8, 6))\n",
    "    plt.plot(fpr, tpr, label='ROC curve (area = %0.3f)' % roc_auc, linewidth=3)\n",
    "    plt.plot([0, 1], [0, 1], 'k--')\n",
    "    plt.xlim([0.0, 1.0])\n",
    "    plt.ylim([0.0, 1.0])\n",
    "    plt.xlabel('False Positive Rate')\n",
    "    plt.ylabel('True Positive Rate')\n",
    "    plt.title('Receiver operating characteristic')\n",
    "    plt.legend(loc=\"lower right\")\n",
    "    plt.show()\n",
    "    plt.close()"
   ]
  },
  {
   "cell_type": "code",
   "execution_count": 13,
   "metadata": {
    "ExecuteTime": {
     "end_time": "2018-10-28T11:22:29.400096Z",
     "start_time": "2018-10-28T11:22:28.141974Z"
    }
   },
   "outputs": [],
   "source": [
    "def fit_model(X_train, X_test, y_train, y_test, model, vectorizer):\n",
    "    X_train = vectorizer.fit_transform(X_train)\n",
    "    X_test = vectorizer.transform(X_test)\n",
    "    \n",
    "    model.fit(X_train, y_train)\n",
    "    y_pred = model.predict(X_test)\n",
    "    precision = metrics.precision_score(y_test, y_pred)\n",
    "    recall = metrics.recall_score(y_test, y_pred)\n",
    "\n",
    "    print(\"precision: %s;\\nrecall %s\" % (precision, recall))\n",
    "    \n",
    "    y_score = model.decision_function(X_test)\n",
    "    plot_roc_auc(y_score, y_test)"
   ]
  },
  {
   "cell_type": "code",
   "execution_count": 14,
   "metadata": {
    "ExecuteTime": {
     "end_time": "2018-10-28T11:22:30.983391Z",
     "start_time": "2018-10-28T11:22:29.404264Z"
    },
    "scrolled": false
   },
   "outputs": [
    {
     "name": "stdout",
     "output_type": "stream",
     "text": [
      "precision: 0.8869565217391304;\n",
      "recall 0.9444444444444444\n"
     ]
    },
    {
     "data": {
      "image/png": "[encoded data removed]",
      "text/plain": [
       "<Figure size 576x432 with 1 Axes>"
      ]
     },
     "metadata": {},
     "output_type": "display_data"
    },
    {
     "name": "stdout",
     "output_type": "stream",
     "text": [
      "CPU times: user 2.34 s, sys: 120 ms, total: 2.46 s\n",
      "Wall time: 1.52 s\n"
     ]
    }
   ],
   "source": [
    "%%time\n",
    "fit_model(X_train, X_test, y_train, y_test, logreg, vect)"
   ]
  },
  {
   "cell_type": "markdown",
   "metadata": {},
   "source": [
    "## Get prediction for new text"
   ]
  },
  {
   "cell_type": "code",
   "execution_count": 15,
   "metadata": {
    "ExecuteTime": {
     "end_time": "2018-10-28T11:22:30.989165Z",
     "start_time": "2018-10-28T11:22:30.985082Z"
    }
   },
   "outputs": [],
   "source": [
    "def getPrediction(inputTextFile, vectorizer, model):\n",
    "    \"\"\"Perform prediction for inputTextFile: on what site this text shoulb be published - GeekTimes or Habrahabr.\"\"\"\n",
    "    readFile = open(inputTextFile, encoding='utf8').read()\n",
    "    t = \" \".join(readFile.split())\n",
    "    proc = preprocess(t)\n",
    "    vectorize = vectorizer.transform([proc])\n",
    "    flag = (model.predict_proba(vectorize)[0] == max(model.predict_proba(vectorize)[0]))[0]\n",
    "    blog = flag and u\"GeekTimes\" or u\"Habrahabr\"\n",
    "    print (\"C вероятностью {0} % данный текст опубликован на\".format(round(max(model.predict_proba(vectorize)[0])*100,2)), blog)"
   ]
  },
  {
   "cell_type": "code",
   "execution_count": 16,
   "metadata": {
    "ExecuteTime": {
     "end_time": "2018-10-28T11:22:31.091884Z",
     "start_time": "2018-10-28T11:22:30.990802Z"
    },
    "scrolled": true
   },
   "outputs": [
    {
     "name": "stdout",
     "output_type": "stream",
     "text": [
      "C вероятностью 99.59 % данный текст опубликован на GeekTimes\n"
     ]
    }
   ],
   "source": [
    "getPrediction(\"data/habr/input.txt\", vect, logreg)"
   ]
  },
  {
   "cell_type": "code",
   "execution_count": null,
   "metadata": {},
   "outputs": [],
   "source": []
  },
  {
   "cell_type": "markdown",
   "metadata": {},
   "source": [
    "##  Попробуем vowpal wabbit"
   ]
  },
  {
   "cell_type": "markdown",
   "metadata": {},
   "source": [
    "Prepare sample for vw"
   ]
  },
  {
   "cell_type": "code",
   "execution_count": 17,
   "metadata": {
    "ExecuteTime": {
     "end_time": "2018-10-28T11:22:32.078732Z",
     "start_time": "2018-10-28T11:22:31.093630Z"
    }
   },
   "outputs": [],
   "source": [
    "with open(join(PATH_TO_DATA, \"geek_habr_sample_train.vw\"), \"w\") as f_out:\n",
    "    for idx in X_train.index:\n",
    "        row = df_all.loc[idx]\n",
    "        label = row.label\n",
    "        title = row.title\n",
    "        text = row.text\n",
    "        \n",
    "        if label == 0:\n",
    "            label = -1 ## AS VW EXSPECTS\n",
    "            \n",
    "        line = str(label) + \" |title \" + title + \" |text \" + text + \"\\n\"\n",
    "        f_out.write(line)\n",
    "        \n",
    "        \n",
    "with open(join(PATH_TO_DATA, \"geek_habr_sample_test.vw\"), \"w\") as f_out:\n",
    "    for idx in X_test.index:\n",
    "        row = df_all.loc[idx]\n",
    "        label = row.label\n",
    "        title = row.title\n",
    "        text = row.text\n",
    "        \n",
    "        if label == 0:\n",
    "            label = -1 ## AS VW EXSPECTS\n",
    "            \n",
    "        line = str(label) + \" |title \" + title + \" |text \" + text + \"\\n\"\n",
    "        f_out.write(line)\n"
   ]
  },
  {
   "cell_type": "code",
   "execution_count": null,
   "metadata": {},
   "outputs": [],
   "source": []
  },
  {
   "cell_type": "markdown",
   "metadata": {},
   "source": [
    "## Learn with vowpal wabbit"
   ]
  },
  {
   "cell_type": "code",
   "execution_count": 18,
   "metadata": {
    "ExecuteTime": {
     "end_time": "2018-10-28T11:22:32.223766Z",
     "start_time": "2018-10-28T11:22:32.079905Z"
    }
   },
   "outputs": [
    {
     "name": "stdout",
     "output_type": "stream",
     "text": [
      "/bin/sh: 1: vw: not found\r\n"
     ]
    }
   ],
   "source": [
    "!vw -d data/habr/geek_habr_sample_train.vw --loss_function logistic -f data/habr/vw_trained.model \\\n",
    "                    --ngram 2"
   ]
  },
  {
   "cell_type": "code",
   "execution_count": 19,
   "metadata": {
    "ExecuteTime": {
     "end_time": "2018-10-28T11:22:32.495053Z",
     "start_time": "2018-10-28T11:22:32.225969Z"
    }
   },
   "outputs": [
    {
     "name": "stdout",
     "output_type": "stream",
     "text": [
      "/bin/sh: 1: vw: not found\r\n"
     ]
    }
   ],
   "source": [
    "!vw -i data/habr/vw_trained.model -t -d data/habr/geek_habr_sample_test.vw \\\n",
    "                                        -p data/habr/vw_predictions.txt"
   ]
  },
  {
   "cell_type": "code",
   "execution_count": 20,
   "metadata": {
    "ExecuteTime": {
     "end_time": "2018-10-28T11:22:32.640297Z",
     "start_time": "2018-10-28T11:22:32.500414Z"
    }
   },
   "outputs": [
    {
     "data": {
      "image/png": "[encoded data removed]",
      "text/plain": [
       "<Figure size 576x432 with 1 Axes>"
      ]
     },
     "metadata": {},
     "output_type": "display_data"
    }
   ],
   "source": [
    "with open('data/habr/vw_predictions.txt') as pred_file:\n",
    "    y_score_vw = [float(label)\n",
    "                             for label in pred_file.readlines()]\n",
    "\n",
    "\n",
    "plot_roc_auc(y_score_vw, y_test)"
   ]
  },
  {
   "cell_type": "code",
   "execution_count": 23,
   "metadata": {
    "ExecuteTime": {
     "end_time": "2018-10-28T11:25:13.112569Z",
     "start_time": "2018-10-28T11:25:13.104033Z"
    }
   },
   "outputs": [
    {
     "name": "stdout",
     "output_type": "stream",
     "text": [
      "[-0.530078, -2.403466, 3.650341, 0.493472, -2.167559, 13.582584, -0.259699, -0.876081, -0.794876, 0.89418, -6.405308, 0.972671, -0.432912, -1.154116, -3.146378, -3.811252, -3.923385, 4.325413, 8.612294, 1.319144, -0.557243, -2.705926, 0.477145, -0.041146, -1.043856, 5.553786, 2.993624, 2.707421, -5.433709, 4.090667, -4.911173, 7.812099, -3.376028, -1.329962, 4.335401, 0.609404, -1.209245, 1.346919, 1.756386, 6.828678, 3.436825, 1.053563, -1.698319, 2.839389, 6.029217, 1.621563, 1.12621, -1.905667, -0.64049, -1.200917, 12.765292, 6.857513, 8.258015, -1.679307, 4.667693, -0.496777, -0.544653, 2.185373, -4.789428, -0.406584, 3.332176, 5.8582, 2.938792, 6.79509, 4.522306, 2.250985, -1.817322, -3.043866, -4.894214, -0.196965, -0.960833, 2.46084, 1.7435, -3.269251, 6.829831, -2.200801, -1.494137, -2.801324, -0.366806, 0.350582, -0.562936, 0.747498, -0.100024, 1.604312, 2.416388, 0.917253, -1.757325, 6.406567, 1.824392, 2.99793, 3.268342, -1.002252, 0.440917, 3.947369, -2.043946, 4.942046, -1.397733, 18.574453, -2.017169, -2.064468, 1.442537, 4.482882, 0.336259, 0.704806, -6.479645, 2.263649, -1.623744, 1.719004, 0.446361, -1.828838, 2.65468, 0.994775, 7.219872, 2.508413, 13.54589, 0.460363, 0.167127, 35.933285, -0.290563, 5.254547, -7.891442, -2.999432, -4.832238, 1.216484, 1.105229, 0.663511, 6.34141, -2.496114, 1.470901, 2.018898, 2.217978, 10.217928, 7.885421, -0.443685, 6.123339, -4.070264, 8.245323, 0.282812, 12.178265, 1.408985, 2.306036, -3.934881, 1.802102, -2.629865, 1.916219, 20.381607, 8.195216, -1.248464, 3.614159, 5.537604, -9.51078, -1.993093, 2.441895, 4.779823, -1.433059, 10.808124, 3.718954, -4.379807, -2.195452, 5.557615, -3.033365, -0.542583, -1.323065, 3.4096, 4.337336, -2.278816, -1.696878, 0.345377, 7.047491, 9.229276, 3.942158, -0.332058, 5.473999, 5.021965, 4.237964, -0.541038, -0.816665, -17.876741, 0.336275, 0.072909, 9.122038, 6.525976, -1.547872, -1.020467, -0.870788, -2.00427, -2.129583, 5.851242, -1.428895, -3.649128, -1.680186, 1.505438, 3.309219, -5.263069, 1.776931, 5.182256, -3.251664, -4.691844, 5.468523, 2.304815, -0.562411, -2.22713, 1.458336, 8.343612, 6.09874, 7.321932, -1.788761, 2.149849, 0.680357, 1.331961, -2.212359, 14.215982, 0.434782, 3.640017, 0.044752, 1.370312, 1.167845, 7.428487, -1.028566, -2.282711, 0.518644, -0.021452, -1.840054, -1.324783, 3.588701, -2.666112, -2.940063, -2.800087, -10.466516, 0.782576, 6.598994, -1.711222, -0.289834, -2.030649, 0.304376, 0.836196, -2.552759, 0.942398, -1.338744, 1.503069, -0.12531, 0.645926, 2.082052, 0.267598, 8.468261, 1.75529, -3.849585, 1.592903, 3.351455, -1.123327, 0.774251, -1.40441, -2.201358, 1.225541, -1.498413, -15.016456, -1.657045, 1.523459, 4.001256, 4.267581, 2.305882, 6.833907, -7.194766, -2.280151, -2.702557, -1.268733, 7.762531, -2.126851, -0.732539, 0.991752, -3.378045, -0.184269, -1.30721, 6.800797, -1.255618, 1.389518, -1.405775, 2.286015, 1.398978, 3.241738, 0.632673, -0.386486, -3.540931, -1.951575, 7.564644, -11.092104, -2.673674, 2.604141, 2.637656, -1.241379, 2.667462, 2.864773, -3.372657, -0.387682, 3.180392, -1.366607, 5.224105, 1.262231, -3.288883, -2.012852, -3.938261, 9.442122, -2.219322, 3.913306, 3.949092, 2.915354, 1.020756, -4.802423, 4.811584, -0.306609, 4.994422, -0.517934, -0.888281, 1.187372, 2.153403, -2.346402, 10.401381, 2.368193, 1.712402, 3.86829, 1.261283, -1.121281, 1.799703, 0.833584, 1.899152, -1.691176, -1.897573, 7.608777, 4.599076, 1.601404, -5.143679, 0.663337, 0.730696, 4.124444, 2.571156, 1.301787, 4.359945, 0.825068, -4.284915, 1.465733, -5.640775, 2.042707, 8.587632, -1.437998, 1.179913, -3.425489, 0.321253, 6.710844, -2.672061, -1.364218, -0.0897, 0.59978, 4.540014, -19.235474, -5.707177, 2.230879, -3.13451, 4.341593, 2.375961, 2.239383, -0.376494, -0.097713, -1.025483, 1.092569, 0.641792, 2.4345, -1.827661, 4.233332, 5.713115, 4.263895, -0.646537, -4.016819, 0.269637, 1.092292, 0.990576, 1.724807, 2.176409, -3.832342, -1.366951, 1.52621, -4.350102, 0.919731, -1.570564, -0.243924, 2.930679, 5.116523, -0.750376, 0.458517, -0.683201, 1.415531, -0.107679, -0.477149, -0.885938, 2.360237, -0.603095, -4.784999, -4.702866, 0.420529, 2.449552]\n"
     ]
    }
   ],
   "source": [
    "print(y_score_vw)"
   ]
  },
  {
   "cell_type": "code",
   "execution_count": 21,
   "metadata": {
    "ExecuteTime": {
     "end_time": "2018-10-28T11:22:33.122014Z",
     "start_time": "2018-10-28T11:22:32.641834Z"
    }
   },
   "outputs": [
    {
     "ename": "ValueError",
     "evalue": "Classification metrics can't handle a mix of binary and continuous targets",
     "output_type": "error",
     "traceback": [
      "\u001b[0;31m---------------------------------------------------------------------------\u001b[0m",
      "\u001b[0;31mValueError\u001b[0m                                Traceback (most recent call last)",
      "\u001b[0;32m<ipython-input-21-6912c526c979>\u001b[0m in \u001b[0;36m<module>\u001b[0;34m()\u001b[0m\n\u001b[0;32m----> 1\u001b[0;31m \u001b[0mprecision\u001b[0m \u001b[0;34m=\u001b[0m \u001b[0mmetrics\u001b[0m\u001b[0;34m.\u001b[0m\u001b[0mprecision_score\u001b[0m\u001b[0;34m(\u001b[0m\u001b[0my_test\u001b[0m\u001b[0;34m,\u001b[0m \u001b[0my_score_vw\u001b[0m\u001b[0;34m)\u001b[0m\u001b[0;34m\u001b[0m\u001b[0m\n\u001b[0m\u001b[1;32m      2\u001b[0m \u001b[0mrecall\u001b[0m \u001b[0;34m=\u001b[0m \u001b[0mmetrics\u001b[0m\u001b[0;34m.\u001b[0m\u001b[0mrecall_score\u001b[0m\u001b[0;34m(\u001b[0m\u001b[0my_test\u001b[0m\u001b[0;34m,\u001b[0m \u001b[0my_score_vw\u001b[0m\u001b[0;34m)\u001b[0m\u001b[0;34m\u001b[0m\u001b[0m\n",
      "\u001b[0;32m~/anaconda3/lib/python3.6/site-packages/sklearn/metrics/classification.py\u001b[0m in \u001b[0;36mprecision_score\u001b[0;34m(y_true, y_pred, labels, pos_label, average, sample_weight)\u001b[0m\n\u001b[1;32m   1259\u001b[0m                                                  \u001b[0maverage\u001b[0m\u001b[0;34m=\u001b[0m\u001b[0maverage\u001b[0m\u001b[0;34m,\u001b[0m\u001b[0;34m\u001b[0m\u001b[0m\n\u001b[1;32m   1260\u001b[0m                                                  \u001b[0mwarn_for\u001b[0m\u001b[0;34m=\u001b[0m\u001b[0;34m(\u001b[0m\u001b[0;34m'precision'\u001b[0m\u001b[0;34m,\u001b[0m\u001b[0;34m)\u001b[0m\u001b[0;34m,\u001b[0m\u001b[0;34m\u001b[0m\u001b[0m\n\u001b[0;32m-> 1261\u001b[0;31m                                                  sample_weight=sample_weight)\n\u001b[0m\u001b[1;32m   1262\u001b[0m     \u001b[0;32mreturn\u001b[0m \u001b[0mp\u001b[0m\u001b[0;34m\u001b[0m\u001b[0m\n\u001b[1;32m   1263\u001b[0m \u001b[0;34m\u001b[0m\u001b[0m\n",
      "\u001b[0;32m~/anaconda3/lib/python3.6/site-packages/sklearn/metrics/classification.py\u001b[0m in \u001b[0;36mprecision_recall_fscore_support\u001b[0;34m(y_true, y_pred, beta, labels, pos_label, average, warn_for, sample_weight)\u001b[0m\n\u001b[1;32m   1023\u001b[0m         \u001b[0;32mraise\u001b[0m \u001b[0mValueError\u001b[0m\u001b[0;34m(\u001b[0m\u001b[0;34m\"beta should be >0 in the F-beta score\"\u001b[0m\u001b[0;34m)\u001b[0m\u001b[0;34m\u001b[0m\u001b[0m\n\u001b[1;32m   1024\u001b[0m \u001b[0;34m\u001b[0m\u001b[0m\n\u001b[0;32m-> 1025\u001b[0;31m     \u001b[0my_type\u001b[0m\u001b[0;34m,\u001b[0m \u001b[0my_true\u001b[0m\u001b[0;34m,\u001b[0m \u001b[0my_pred\u001b[0m \u001b[0;34m=\u001b[0m \u001b[0m_check_targets\u001b[0m\u001b[0;34m(\u001b[0m\u001b[0my_true\u001b[0m\u001b[0;34m,\u001b[0m \u001b[0my_pred\u001b[0m\u001b[0;34m)\u001b[0m\u001b[0;34m\u001b[0m\u001b[0m\n\u001b[0m\u001b[1;32m   1026\u001b[0m     \u001b[0mpresent_labels\u001b[0m \u001b[0;34m=\u001b[0m \u001b[0munique_labels\u001b[0m\u001b[0;34m(\u001b[0m\u001b[0my_true\u001b[0m\u001b[0;34m,\u001b[0m \u001b[0my_pred\u001b[0m\u001b[0;34m)\u001b[0m\u001b[0;34m\u001b[0m\u001b[0m\n\u001b[1;32m   1027\u001b[0m \u001b[0;34m\u001b[0m\u001b[0m\n",
      "\u001b[0;32m~/anaconda3/lib/python3.6/site-packages/sklearn/metrics/classification.py\u001b[0m in \u001b[0;36m_check_targets\u001b[0;34m(y_true, y_pred)\u001b[0m\n\u001b[1;32m     79\u001b[0m     \u001b[0;32mif\u001b[0m \u001b[0mlen\u001b[0m\u001b[0;34m(\u001b[0m\u001b[0my_type\u001b[0m\u001b[0;34m)\u001b[0m \u001b[0;34m>\u001b[0m \u001b[0;36m1\u001b[0m\u001b[0;34m:\u001b[0m\u001b[0;34m\u001b[0m\u001b[0m\n\u001b[1;32m     80\u001b[0m         raise ValueError(\"Classification metrics can't handle a mix of {0} \"\n\u001b[0;32m---> 81\u001b[0;31m                          \"and {1} targets\".format(type_true, type_pred))\n\u001b[0m\u001b[1;32m     82\u001b[0m \u001b[0;34m\u001b[0m\u001b[0m\n\u001b[1;32m     83\u001b[0m     \u001b[0;31m# We can't have more than one value on y_type => The set is no more needed\u001b[0m\u001b[0;34m\u001b[0m\u001b[0;34m\u001b[0m\u001b[0m\n",
      "\u001b[0;31mValueError\u001b[0m: Classification metrics can't handle a mix of binary and continuous targets"
     ]
    }
   ],
   "source": [
    "precision = metrics.precision_score(y_test, y_score_vw)\n",
    "recall = metrics.recall_score(y_test, y_score_vw)"
   ]
  },
  {
   "cell_type": "code",
   "execution_count": null,
   "metadata": {
    "ExecuteTime": {
     "end_time": "2018-10-28T11:22:33.124145Z",
     "start_time": "2018-10-28T11:20:47.754Z"
    }
   },
   "outputs": [],
   "source": [
    "y_score_vw[:5]"
   ]
  },
  {
   "cell_type": "code",
   "execution_count": null,
   "metadata": {},
   "outputs": [],
   "source": []
  },
  {
   "cell_type": "code",
   "execution_count": null,
   "metadata": {},
   "outputs": [],
   "source": []
  },
  {
   "cell_type": "code",
   "execution_count": null,
   "metadata": {
    "ExecuteTime": {
     "end_time": "2018-10-28T11:22:33.127258Z",
     "start_time": "2018-10-28T11:20:47.759Z"
    }
   },
   "outputs": [],
   "source": [
    "def sigmoid(x):\n",
    "    return 1/(1+np.exp(-x))\n",
    "\n",
    "y_score_vw_normalized = sigmoid(np.array(y_score_vw))\n",
    "y_score_vw_normalized = y_score_vw_normalized > 0.55"
   ]
  },
  {
   "cell_type": "code",
   "execution_count": null,
   "metadata": {
    "ExecuteTime": {
     "end_time": "2018-10-28T11:22:33.130579Z",
     "start_time": "2018-10-28T11:20:47.760Z"
    }
   },
   "outputs": [],
   "source": [
    "precision = metrics.precision_score(y_test, y_score_vw_normalized)\n",
    "recall = metrics.recall_score(y_test, y_score_vw_normalized)\n",
    "print(\"precision: %s;\\nrecall %s\" % (precision, recall))"
   ]
  },
  {
   "cell_type": "code",
   "execution_count": null,
   "metadata": {},
   "outputs": [],
   "source": []
  }
 ],
 "metadata": {
  "kernelspec": {
   "display_name": "Python 3",
   "language": "python",
   "name": "python3"
  },
  "language_info": {
   "codemirror_mode": {
    "name": "ipython",
    "version": 3
   },
   "file_extension": ".py",
   "mimetype": "text/x-python",
   "name": "python",
   "nbconvert_exporter": "python",
   "pygments_lexer": "ipython3",
   "version": "3.6.5"
  },
  "toc": {
   "nav_menu": {},
   "number_sections": true,
   "sideBar": true,
   "skip_h1_title": false,
   "title_cell": "Table of Contents",
   "title_sidebar": "Contents",
   "toc_cell": true,
   "toc_position": {},
   "toc_section_display": true,
   "toc_window_display": true
  },
  "varInspector": {
   "cols": {
    "lenName": 16,
    "lenType": 16,
    "lenVar": 40
   },
   "kernels_config": {
    "python": {
     "delete_cmd_postfix": "",
     "delete_cmd_prefix": "del ",
     "library": "var_list.py",
     "varRefreshCmd": "print(var_dic_list())"
    },
    "r": {
     "delete_cmd_postfix": ") ",
     "delete_cmd_prefix": "rm(",
     "library": "var_list.r",
     "varRefreshCmd": "cat(var_dic_list()) "
    }
   },
   "types_to_exclude": [
    "module",
    "function",
    "builtin_function_or_method",
    "instance",
    "_Feature"
   ],
   "window_display": false
  }
 },
 "nbformat": 4,
 "nbformat_minor": 1
}
